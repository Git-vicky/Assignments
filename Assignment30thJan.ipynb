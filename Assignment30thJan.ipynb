{
 "cells": [
  {
   "cell_type": "code",
   "execution_count": 1,
   "id": "eccf3009-572e-4158-a4bc-106d9425edce",
   "metadata": {},
   "outputs": [
    {
     "name": "stdin",
     "output_type": "stream",
     "text": [
      "Input value :  60\n"
     ]
    },
    {
     "name": "stdout",
     "output_type": "stream",
     "text": [
      "Your Grade is C\n"
     ]
    },
    {
     "name": "stdin",
     "output_type": "stream",
     "text": [
      "input the cost price of bike :  400000\n"
     ]
    },
    {
     "name": "stdout",
     "output_type": "stream",
     "text": [
      "Road tax is =  60000.0\n"
     ]
    },
    {
     "name": "stdin",
     "output_type": "stream",
     "text": [
      " Input city name :  Patna\n"
     ]
    },
    {
     "name": "stdout",
     "output_type": "stream",
     "text": [
      "Golghar\n"
     ]
    },
    {
     "name": "stdin",
     "output_type": "stream",
     "text": [
      "Input a number :  5\n"
     ]
    },
    {
     "name": "stdout",
     "output_type": "stream",
     "text": [
      "0\n"
     ]
    },
    {
     "name": "stdin",
     "output_type": "stream",
     "text": [
      "Input the number :  6\n"
     ]
    },
    {
     "name": "stdout",
     "output_type": "stream",
     "text": [
      "* * * * * * \n",
      "* * * * * * \n",
      "* * * * * * \n",
      "* * * * * * \n",
      "* * * * * * \n",
      "* * * * * * \n",
      "10\n",
      "9\n",
      "8\n",
      "7\n",
      "6\n",
      "5\n",
      "4\n",
      "3\n",
      "2\n",
      "1\n"
     ]
    }
   ],
   "source": [
    "#Q1.\n",
    "\n",
    "marks = int(input(\"Input value : \"))\n",
    "\n",
    "if(marks>90):\n",
    "    print(\"Your Grade is A\")\n",
    "elif(marks>80 and marks <=90):\n",
    "    print(\"Your Grade is B\")\n",
    "elif(marks>=60 and marks <=80):\n",
    "    print(\"Your Grade is C\")\n",
    "elif(marks<60):\n",
    "    print(\"Your Grade is D\")\n",
    "else:\n",
    "    print(\"Invalid input\")    \n",
    "\n",
    "\n",
    "#Q2\n",
    "\n",
    "cost_price = int(input(\"input the cost price of bike : \"))\n",
    "\n",
    "if(cost_price>100000):\n",
    "    tax = 15 * cost_price/100\n",
    "    print(\"Road tax is = \", tax)\n",
    "elif(cost_price > 50000 and cost_price<=100000):\n",
    "    tax = 10 * cost_price/100\n",
    "    print(\"Road tax is = \", tax)\n",
    "elif(cost_price <= 50000):\n",
    "    tax = 5 * cost_price /100\n",
    "    print(\"Road tax is = \", tax)\n",
    "else:\n",
    "    print(\"Invalid Input\")\n",
    "\n",
    "\n",
    "#Q3 \n",
    "\n",
    "city = input(\" Input city name : \")\n",
    "monuments = { \"Delhi\" : \"Red Fort\" , \"Agra\":\"Taj Mahal\" , \"Jaipur\" : \"Jal Mahal\" , \"Patna\":\"Golghar\" , \"Amritsar\" : \"Golden Temple\" , \"Mumbai\" : \"Zuhu Beach\" } \n",
    "print(monuments[city]) \n",
    "\n",
    "#Q4\n",
    "num = int(input(\"Input a number : \"))\n",
    "count=0\n",
    "for i in range(num):\n",
    "    if(num>10):\n",
    "        num = num//3\n",
    "        count += 1\n",
    "print(count)\n",
    "\n",
    "#Q5\n",
    "'''\n",
    "Python While Loop is used to execute a block of statements repeatedly until a given condition is     \n",
    "satisfied. And when the condition becomes false, the line immediately after the loop in the program is  \n",
    "Executed.\n",
    "       \n",
    "The while statement lets you repeat a statement until a specified expression becomes false.\n",
    "'''\n",
    "\n",
    "#Q6.\n",
    "\n",
    "'''\n",
    "Square pattern printimg in python \n",
    "*  *  *  * \n",
    "*  *  *  *\n",
    "*  *  *  *\n",
    "*  *  *  *\n",
    "\n",
    "'''\n",
    "\n",
    "num = int(input(\"Input the number : \"))\n",
    "i = 1\n",
    "while i <= num:\n",
    "    j = 1\n",
    "    while j <= num:\n",
    "        print(\"*\",end = \" \")\n",
    "        j += 1\n",
    "    print()\n",
    "    i += 1 \n",
    "    \n",
    "\n",
    "\n",
    "\n",
    "\n",
    "\n",
    "#Q7.\n",
    "\n",
    "num = 10\n",
    "while num > 0 :\n",
    "    print(num)\n",
    "    num -= 1\n",
    "    \n",
    "\n"
   ]
  },
  {
   "cell_type": "code",
   "execution_count": null,
   "id": "2a2ee5de-51cb-43ed-96c0-2e35092b8ae8",
   "metadata": {},
   "outputs": [],
   "source": []
  }
 ],
 "metadata": {
  "kernelspec": {
   "display_name": "Python 3 (ipykernel)",
   "language": "python",
   "name": "python3"
  },
  "language_info": {
   "codemirror_mode": {
    "name": "ipython",
    "version": 3
   },
   "file_extension": ".py",
   "mimetype": "text/x-python",
   "name": "python",
   "nbconvert_exporter": "python",
   "pygments_lexer": "ipython3",
   "version": "3.10.8"
  }
 },
 "nbformat": 4,
 "nbformat_minor": 5
}
